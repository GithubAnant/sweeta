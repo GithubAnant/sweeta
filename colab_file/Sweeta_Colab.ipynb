{
  "cells": [
    {
      "cell_type": "markdown",
      "metadata": {},
      "source": [
        "<div align=\"center\">\n",
        "\n",
        "# 🍬 Sweeta - SORA 2 Watermark Remover\n",
        "\n",
        "### Remove watermarks from SORA 2 video generations\n",
        "\n",
        "[![GitHub](https://img.shields.io/badge/GitHub-kuberwastaken/sweeta-pink?logo=github)](https://github.com/kuberwastaken/sweeta)\n",
        "[![License](https://img.shields.io/badge/License-Apache%202.0-pink.svg)](https://github.com/kuberwastaken/sweeta/blob/main/LICENSE)\n",
        "\n",
        "---\n",
        "\n",
        "**What this does:** Removes watermarks from SORA 2 generated videos using AI\n",
        "\n",
        "**Runtime:** ~5-15 minutes depending on video length\n",
        "---\n",
        "\n",
        "</div>\n"
      ]
    },
    {
      "cell_type": "markdown",
      "metadata": {},
      "source": [
        "## ⚠️ Important Disclaimer\n",
        "\n",
        "**FOR EDUCATIONAL AND RESEARCH PURPOSES ONLY**\n",
        "\n",
        "This tool is provided to:\n",
        "- Demonstrate AI capabilities in computer vision\n",
        "- Encourage OpenAI to implement stronger watermarking\n",
        "- Research watermark removal techniques\n",
        "\n",
        "**Please use responsibly and ethically. Respect content creator rights and intellectual property.**\n",
        "\n",
        "---\n"
      ]
    },
    {
      "cell_type": "markdown",
      "metadata": {},
      "source": [
        "## Instructions\n",
        "\n",
        "Follow these steps in order:\n",
        "\n",
        "1. **Step 1:** Enable GPU runtime (Runtime → Change runtime type → T4 GPU)\n",
        "2. **Step 2:** Run the setup cell (installs conda)\n",
        "3. **Step 3:** Clone the Sweeta repository\n",
        "4. **Step 4:** Upload your SORA 2 video\n",
        "5. **Step 5:** Process the video\n",
        "6. **Step 6:** Download your watermark-free video\n",
        "\n",
        "⏱️ **Total time:** ~5-15 minutes\n",
        "\n",
        "---\n"
      ]
    },
    {
      "cell_type": "markdown",
      "metadata": {},
      "source": [
        "## Step 0: Check GPU Status\n",
        "\n",
        "Let's make sure you have GPU enabled! This should show your GPU info.\n"
      ]
    },
    {
      "cell_type": "code",
      "execution_count": null,
      "metadata": {},
      "outputs": [],
      "source": [
        "# Check if GPU is available\n",
        "!nvidia-smi -L\n",
        "print(\"\\n✅ GPU detected! You're good to go.\")\n",
        "print(\"\\n⚠️ If you see an error above, go to: Runtime → Change runtime type → T4 GPU\")\n"
      ]
    },
    {
      "cell_type": "markdown",
      "metadata": {},
      "source": [
        "## Step 1: Install Conda\n",
        "\n",
        "This installs conda (a package manager) which is needed for the project.\n",
        "\n",
        "**Time:** ~30 seconds\n",
        "\n",
        "**⚠️ Note:** The kernel will restart after this step. That's normal!\n"
      ]
    },
    {
      "cell_type": "code",
      "execution_count": null,
      "metadata": {},
      "outputs": [],
      "source": [
        "# Install condacolab (required for conda in Colab)\n",
        "!pip install -q condacolab\n",
        "import condacolab\n",
        "condacolab.install()\n",
        "\n",
        "print(\"Conda installed successfully!\")\n",
        "print(\"Kernel will restart automatically...\")\n"
      ]
    },
    {
      "cell_type": "markdown",
      "metadata": {},
      "source": [
        "## Step 2: Clone Sweeta Repository\n",
        "\n",
        "This downloads the Sweeta code from GitHub."
      ]
    },
    {
      "cell_type": "code",
      "execution_count": null,
      "metadata": {},
      "outputs": [],
      "source": [
        "import os\n",
        "\n",
        "# Clone the repository\n",
        "if not os.path.exists('/content/Sweeta'):\n",
        "    print(\" Cloning Sweeta repository...\")\n",
        "    !git clone https://github.com/kuberwastaken/Sweeta.git\n",
        "    print(\"\\n✅ Repository cloned successfully!\")\n",
        "else:\n",
        "    print(\"✅ Repository already exists!\")\n",
        "\n",
        "# Change to the project directory\n",
        "%cd /content/Sweeta\n",
        "print(\"\\n📂 Current directory:\", os.getcwd())\n"
      ]
    },
    {
      "cell_type": "markdown",
      "metadata": {},
      "source": [
        "## Step 3: Install Dependencies\n",
        "\n",
        "This sets up the Python environment and downloads the AI model.\n",
        "\n",
        "**What's happening:**\n",
        "- Creating Python 3.12 environment\n",
        "- Installing required packages (PyTorch, transformers, etc.)\n",
        "- Downloading LaMA inpainting model (~200MB)"
      ]
    },
    {
      "cell_type": "code",
      "execution_count": null,
      "metadata": {},
      "outputs": [],
      "source": [
        "# Make setup script executable and run it\n",
        "print(\"🔧 Setting up environment...\\n\")\n",
        "\n",
        "# Fix line endings (Windows → Linux)\n",
        "!sed -i 's/\\r$//' linux/setup.sh\n",
        "!chmod +x linux/setup.sh\n",
        "\n",
        "# Run setup with --activate flag to just set up the environment\n",
        "!bash linux/setup.sh --activate\n",
        "\n",
        "print(\" All dependencies installed!\")\n",
        "print(\" LaMA model downloaded!\")\n",
        "print(\" Setup complete! Ready to process videos.\")\n"
      ]
    },
    {
      "cell_type": "markdown",
      "metadata": {},
      "source": [
        "## Step 4: Upload Your SORA 2 Video\n",
        "\n",
        "Click the **\"Choose Files\"** button below to upload your video.\n",
        "\n",
        "**Supported formats:** MP4, AVI, MOV, MKV\n",
        "\n",
        "**Note:** Large files may take a while to upload. Be patient!\n"
      ]
    },
    {
      "cell_type": "code",
      "execution_count": null,
      "metadata": {},
      "outputs": [],
      "source": [
        "from google.colab import files\n",
        "import os\n",
        "\n",
        "print(\"Please select your SORA 2 video file...\\n\")\n",
        "uploaded = files.upload()\n",
        "\n",
        "# Get the uploaded filename\n",
        "input_video = list(uploaded.keys())[0]\n",
        "print(f\"\\n✅ Uploaded: {input_video}\")\n",
        "print(f\"📊 File size: {os.path.getsize(input_video) / (1024*1024):.2f} MB\")\n"
      ]
    },
    {
      "cell_type": "markdown",
      "metadata": {},
      "source": [
        "## ⚙️ Step 5: Configure Processing Options\n",
        "\n",
        "Customize how you want to process your video:\n",
        "\n",
        "**Options explained:**\n",
        "- **max_bbox_percent**: Detection sensitivity (1-100). Lower = more aggressive detection\n",
        "  - Try `15` for SORA 2 watermarks (recommended)\n",
        "  - Try `30-50` for larger watermarks\n",
        "- **output_format**: Choose your output format\n",
        "  - `MP4` - Best compatibility (recommended)\n",
        "  - `AVI` - High quality, larger file\n",
        "  - `WEBM` - Good compression\n",
        "- **transparent**: Make watermark areas transparent (PNG frames only)\n"
      ]
    },
    {
      "cell_type": "code",
      "execution_count": null,
      "metadata": {},
      "outputs": [],
      "source": [
        "# ===== CUSTOMIZE THESE SETTINGS =====\n",
        "\n",
        "# Detection sensitivity (1-100, lower = more aggressive)\n",
        "max_bbox_percent = 15  # Good for SORA 2 watermarks\n",
        "\n",
        "# Output format (MP4, AVI, WEBM, MOV)\n",
        "output_format = \"MP4\"\n",
        "\n",
        "# Make watermarks transparent instead of inpainting (slower)\n",
        "transparent = False\n",
        "\n",
        "# Output filename\n",
        "output_video = \"output_no_watermark.mp4\"\n",
        "\n",
        "# ====================================\n",
        "\n",
        "print(\" Configuration:\")\n",
        "print(f\"   📊 Max BBox Percent: {max_bbox_percent}%\")\n",
        "print(f\"   📹 Output Format: {output_format}\")\n",
        "print(f\"   🎨 Transparent Mode: {transparent}\")\n",
        "print(f\"   💾 Output File: {output_video}\")\n",
        "print(\"\\n✅ Configuration ready!\")\n"
      ]
    },
    {
      "cell_type": "markdown",
      "metadata": {},
      "source": [
        "## 🚀 Step 6: Process Video\n",
        "\n",
        "This is where the magic happens! The AI will:\n",
        "1. Extract frames from your video\n",
        "2. Detect watermarks in each frame\n",
        "3. Remove watermarks using inpainting\n",
        "4. Reassemble into a video\n",
        "\n",
        "**Tip:** You'll see progress updates below. Don't close the tab!\n"
      ]
    },
    {
      "cell_type": "code",
      "execution_count": null,
      "metadata": {},
      "outputs": [],
      "source": [
        "import time\n",
        "start_time = time.time()\n",
        "\n",
        "print(\"Starting video processing...\\n\")\n",
        "print(\"=\"*60)\n",
        "\n",
        "# Build the command\n",
        "transparent_flag = \"--transparent\" if transparent else \"\"\n",
        "\n",
        "cmd = f\"\"\"bash linux/setup.sh -- \\\n",
        "  /content/Sweeta/{input_video} \\\n",
        "  /content/Sweeta/{output_video} \\\n",
        "  --max-bbox-percent={max_bbox_percent} \\\n",
        "  --force-format={output_format} \\\n",
        "  {transparent_flag}\n",
        "\"\"\"\n",
        "\n",
        "# Run the processing\n",
        "!{cmd}\n",
        "\n",
        "elapsed_time = time.time() - start_time\n",
        "print(\"=\"*60)\n",
        "print(f\"\\n✅ Processing complete!\")\n",
        "print(f\"⏱️ Time taken: {elapsed_time/60:.2f} minutes\")\n",
        "print(f\"\\n📁 Output saved to: {output_video}\")\n"
      ]
    },
    {
      "cell_type": "markdown",
      "metadata": {},
      "source": [
        "## Step 7: Download Your Video\n",
        "\n",
        "Your watermark-free video is ready! Click the download link below.\n"
      ]
    },
    {
      "cell_type": "code",
      "execution_count": null,
      "metadata": {},
      "outputs": [],
      "source": [
        "from google.colab import files\n",
        "import os\n",
        "\n",
        "if os.path.exists(output_video):\n",
        "    print(\"📥 Downloading your video...\\n\")\n",
        "    files.download(output_video)\n",
        "    print(\"\\n✅ Download started! Check your browser's download folder.\")\n",
        "    print(f\"📊 Output file size: {os.path.getsize(output_video) / (1024*1024):.2f} MB\")\n",
        "else:\n",
        "    print(\"❌ Error: Output file not found!\")\n",
        "    print(\"Please check the processing step for errors.\")\n"
      ]
    },
    {
      "cell_type": "markdown",
      "metadata": {},
      "source": [
        "## 🔧 Troubleshooting\n",
        "\n",
        "### Common Issues:\n",
        "\n",
        "**❌ \"CUDA out of memory\" error**\n",
        "- Solution: Try processing a shorter video or restart runtime\n",
        "\n",
        "**❌ \"ModuleNotFoundError\" or import errors**\n",
        "- Solution: Re-run Step 3 (Install Dependencies)\n",
        "\n",
        "**❌ Watermarks not fully removed**\n",
        "- Solution: Try lowering `max_bbox_percent` to 10 or 5\n",
        "- Alternative: Enable `transparent = True` mode\n",
        "\n",
        "**❌ Video quality degraded**\n",
        "- Solution: Try a different output format (MP4 → AVI)\n",
        "- Check if original video had high quality\n",
        "\n",
        "**❌ Processing takes too long**\n",
        "- Note: Long videos take time. A 60s video can take 15+ minutes\n",
        "- Tip: Process shorter clips for faster results\n",
        "\n",
        "### Still having issues?\n",
        "\n",
        "- 🐛 [Open an issue on GitHub](https://github.com/kuberwastaken/sweeta/issues)\n",
        "- 📧 Contact: [Twitter @kuberwastaken](https://twitter.com/kuberwastaken)\n",
        "\n",
        "---\n"
      ]
    },
    {
      "cell_type": "markdown",
      "metadata": {},
      "source": [
        "## About This Project\n",
        "\n",
        "### Credits:\n",
        "- Built by [Kuber Mehta](https://kuber.studio/)\n",
        "- Based on WatermarkRemover-AI by D-Ogi\n",
        "- Development journey: [journal.md](https://github.com/kuberwastaken/sweeta/blob/main/journal.md)\n",
        "\n",
        "### Links:\n",
        "[GitHub Repository](https://github.com/kuberwastaken/sweeta), [Documentation](https://github.com/kuberwastaken/sweeta#readme), [Twitter @kuberwastaken](https://twitter.com/kuberwastaken)\n",
        "\n",
        "---\n",
        "\n",
        "<div align=\"center\">\n",
        "\n",
        "**Use only for Educational and Research Purposes**\n",
        "\n",
        "[Star on GitHub](https://github.com/kuberwastaken/sweeta) if you found this useful!\n",
        "\n",
        "**License:** Apache 2.0 | **Use responsibly and ethically**\n",
        "\n",
        "</div>\n"
      ]
    }
  ],
  "metadata": {
    "language_info": {
      "name": "python"
    }
  },
  "nbformat": 4,
  "nbformat_minor": 2
}
